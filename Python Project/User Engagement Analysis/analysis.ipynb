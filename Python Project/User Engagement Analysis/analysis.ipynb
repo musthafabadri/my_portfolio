{
 "cells": [
  {
   "cell_type": "code",
   "execution_count": 16,
   "id": "8422e3a6",
   "metadata": {},
   "outputs": [],
   "source": [
    "import pandas as pd\n",
    "import numpy as np\n",
    "import matplotlib.pyplot as plt\n",
    "import math\n",
    "import os\n",
    "from scipy.stats import spearmanr"
   ]
  },
  {
   "cell_type": "code",
   "execution_count": 34,
   "id": "5c516116",
   "metadata": {},
   "outputs": [],
   "source": [
    "#TASK 1 - Understand and highlight the behavioral differences"
   ]
  },
  {
   "cell_type": "code",
   "execution_count": null,
   "id": "2f38e364",
   "metadata": {},
   "outputs": [],
   "source": []
  },
  {
   "cell_type": "code",
   "execution_count": 33,
   "id": "a0f5b8d5",
   "metadata": {},
   "outputs": [],
   "source": [
    "# ----- Input Data -----\n",
    "DATA_DIR = r\"D:\\Project\\User Engagement Analysis\\da_test_v2\""
   ]
  },
  {
   "cell_type": "code",
   "execution_count": 18,
   "id": "8171a8b5",
   "metadata": {},
   "outputs": [],
   "source": [
    "# ----- Load Data -----\n",
    "gamesession_df  = pd.read_csv(os.path.join(DATA_DIR, \"gamesession.csv\"))\n",
    "clips_df        = pd.read_csv(os.path.join(DATA_DIR, \"clips.csv\"))\n",
    "downloaded_df   = pd.read_csv(os.path.join(DATA_DIR, \"downloaded_clips.csv\"))\n",
    "shared_df       = pd.read_csv(os.path.join(DATA_DIR, \"shared_clips.csv\"))\n",
    "premium_df      = pd.read_csv(os.path.join(DATA_DIR, \"premium.csv\"))"
   ]
  },
  {
   "cell_type": "code",
   "execution_count": 19,
   "id": "ea4b9be5",
   "metadata": {},
   "outputs": [
    {
     "name": "stdout",
     "output_type": "stream",
     "text": [
      "=== gamesession ===\n",
      "id                int64\n",
      "user_id           int64\n",
      "duration          int64\n",
      "submited_date    object\n",
      "created_at       object\n",
      "game_name        object\n",
      "join_at          object\n",
      "dtype: object\n",
      "\n",
      "=== clips ===\n",
      "id                  int64\n",
      "user_id             int64\n",
      "gamesession_Id    float64\n",
      "clip_type_id        int64\n",
      "duration            int64\n",
      "event_name         object\n",
      "game_name          object\n",
      "created_at         object\n",
      "join_at            object\n",
      "dtype: object\n",
      "\n",
      "=== downloaded_clips ===\n",
      "id                  int64\n",
      "user_Id             int64\n",
      "clip_id             int64\n",
      "gamesession_Id    float64\n",
      "game_name          object\n",
      "event_name         object\n",
      "created_at         object\n",
      "join_at            object\n",
      "dtype: object\n",
      "\n",
      "=== shared_clips ===\n",
      "user_id             int64\n",
      "clip_id             int64\n",
      "gamesession_Id    float64\n",
      "game_name          object\n",
      "event_name         object\n",
      "created_at         object\n",
      "scheduled_at       object\n",
      "join_at            object\n",
      "dtype: object\n",
      "\n",
      "=== premium ===\n",
      "user_id         int64\n",
      "starts_at      object\n",
      "ends_at        object\n",
      "created_at     object\n",
      "updated_at     object\n",
      "canceled_at    object\n",
      "join_at        object\n",
      "dtype: object\n"
     ]
    }
   ],
   "source": [
    "# ----- Data Cleaning -----\n",
    "# 1) Cek Format Kolom\n",
    "print(\"=== gamesession ===\")\n",
    "print(gamesession_df.dtypes)\n",
    "print(\"\\n=== clips ===\")\n",
    "print(clips_df.dtypes)\n",
    "print(\"\\n=== downloaded_clips ===\")\n",
    "print(downloaded_df.dtypes)\n",
    "print(\"\\n=== shared_clips ===\")\n",
    "print(shared_df.dtypes)\n",
    "print(\"\\n=== premium ===\")\n",
    "print(premium_df.dtypes)"
   ]
  },
  {
   "cell_type": "code",
   "execution_count": 20,
   "id": "4c88bfdd",
   "metadata": {},
   "outputs": [],
   "source": [
    "# ----- Data Cleaning -----\n",
    "# 2) Konversi kolom tanggal menjadi date time\n",
    "def to_datetime_inplace(df, cols):\n",
    "    for c in cols:\n",
    "        if c in df.columns:\n",
    "            df[c] = pd.to_datetime(df[c], errors=\"coerce\")\n",
    "\n",
    "to_datetime_inplace(gamesession_df, [\"submited_date\", \"created_at\", \"join_at\"])\n",
    "to_datetime_inplace(clips_df,       [\"created_at\", \"join_at\"])\n",
    "to_datetime_inplace(downloaded_df,  [\"created_at\", \"join_at\"])\n",
    "to_datetime_inplace(shared_df,      [\"created_at\", \"scheduled_at\", \"join_at\"])\n",
    "to_datetime_inplace(premium_df,     [\"starts_at\", \"ends_at\", \"created_at\", \"updated_at\", \"canceled_at\", \"join_at\"])"
   ]
  },
  {
   "cell_type": "code",
   "execution_count": 21,
   "id": "f9ff7868",
   "metadata": {},
   "outputs": [],
   "source": [
    "# ----- Data Cleaning -----\n",
    "# 3) Standarisasi nama kolom user di download_clips\n",
    "if \"user_Id\" in downloaded_df.columns:\n",
    "    downloaded_df = downloaded_df.rename(columns={\"user_Id\": \"user_id\"})"
   ]
  },
  {
   "cell_type": "code",
   "execution_count": 22,
   "id": "0caa18c2",
   "metadata": {},
   "outputs": [
    {
     "name": "stdout",
     "output_type": "stream",
     "text": [
      "\n",
      "[Missing Value] gamesession\n",
      "join_at      158\n",
      "game_name     29\n",
      "dtype: int64\n",
      "\n",
      "[Missing Value] clips\n",
      "event_name        21724\n",
      "game_name         12761\n",
      "gamesession_Id    12761\n",
      "dtype: int64\n",
      "\n",
      "[Missing Value] downloaded_clips\n",
      "event_name    4019\n",
      "dtype: int64\n",
      "\n",
      "[Missing Value] shared_clips\n",
      "event_name    5037\n",
      "dtype: int64\n",
      "\n",
      "[Missing Value] premium\n",
      "canceled_at    259\n",
      "dtype: int64\n"
     ]
    }
   ],
   "source": [
    "# ----- Data Cleaning -----\n",
    "# 4) Cek missing value\n",
    "def missing_report(df, name):\n",
    "    miss = df.isna().sum().sort_values(ascending=False)\n",
    "    print(f\"\\n[Missing Value] {name}\")\n",
    "    print(miss[miss > 0])\n",
    "\n",
    "missing_report(gamesession_df, \"gamesession\")\n",
    "missing_report(clips_df, \"clips\")\n",
    "missing_report(downloaded_df, \"downloaded_clips\")\n",
    "missing_report(shared_df, \"shared_clips\")\n",
    "missing_report(premium_df, \"premium\")"
   ]
  },
  {
   "cell_type": "code",
   "execution_count": 23,
   "id": "3a68e685",
   "metadata": {},
   "outputs": [],
   "source": [
    "# ----- Helper (signup_at per user) -----\n",
    "#Ambil tanggal join paling awal untuk setiap user dari semua tabe lyang punya join_at\n",
    "def get_user_signup():\n",
    "    frames = []\n",
    "    for df in [gamesession_df, clips_df, downloaded_df, shared_df, premium_df]:\n",
    "        if \"user_id\" in df.columns and \"join_at\" in df.columns:\n",
    "            frames.append(df[[\"user_id\", \"join_at\"]].dropna())\n",
    "    all_join = pd.concat(frames, ignore_index=True)\n",
    "    user_join = all_join.groupby(\"user_id\", as_index=False)[\"join_at\"].min()\n",
    "    user_join = user_join.rename(columns={\"join_at\": \"signup_at\"})\n",
    "    return user_join\n",
    "\n",
    "user_join = get_user_signup()"
   ]
  },
  {
   "cell_type": "code",
   "execution_count": 24,
   "id": "75d0be86",
   "metadata": {},
   "outputs": [],
   "source": [
    "# ----- Label Premium -----\n",
    "#Gunakan starts_at paling awal sebagai awal premium\n",
    "prem_start = premium_df.groupby(\"user_id\", as_index=False)[\"starts_at\"].min()\n",
    "prem_start = prem_start.rename(columns={\"starts_at\": \"premium_start_at\"})\n",
    "\n",
    "user_labels = user_join.merge(prem_start, on=\"user_id\", how=\"left\")\n",
    "user_labels[\"ever_premium\"] = ~user_labels[\"premium_start_at\"].isna()"
   ]
  },
  {
   "cell_type": "code",
   "execution_count": 25,
   "id": "1f8621ae",
   "metadata": {},
   "outputs": [],
   "source": [
    "# ----- Aktivitas Lifetime per user -----\n",
    "#Hitung jumlah aktivitas per user dari tiap tabel\n",
    "gs_count   = gamesession_df.groupby(\"user_id\")[\"id\"].count().rename(\"gamesession_count\")\n",
    "cl_created = clips_df.groupby(\"user_id\")[\"id\"].count().rename(\"clips_created\")\n",
    "dl_count   = downloaded_df.groupby(\"user_id\")[\"id\"].count().rename(\"clips_downloaded\")\n",
    "sh_count   = shared_df.groupby(\"user_id\")[\"clip_id\"].count().rename(\"clips_shared\")"
   ]
  },
  {
   "cell_type": "code",
   "execution_count": 26,
   "id": "44613d72",
   "metadata": {},
   "outputs": [],
   "source": [
    "# ----- Aktivitas Lifetime per user -----\n",
    "#Gabungkan ke basis user (user_labels)\n",
    "lifetime = (\n",
    "    user_labels.set_index(\"user_id\")\n",
    "    .join(gs_count, how=\"left\")\n",
    "    .join(cl_created, how=\"left\")\n",
    "    .join(dl_count, how=\"left\")\n",
    "    .join(sh_count, how=\"left\")\n",
    "    .reset_index()\n",
    ")"
   ]
  },
  {
   "cell_type": "code",
   "execution_count": null,
   "id": "f20fdeec",
   "metadata": {},
   "outputs": [],
   "source": [
    "# ----- Aktivitas Lifetime per user -----\n",
    "#Isi NaN dengan 0 untuk kolom hitungan\n",
    "for c in [\"gamesession_count\", \"clips_created\", \"clips_downloaded\", \"clips_shared\"]:\n",
    "    if c in lifetime.columns:\n",
    "        lifetime[c] = lifetime[c].fillna(0).astype(int)\n",
    "\n",
    "lifetime.head()"
   ]
  },
  {
   "cell_type": "code",
   "execution_count": null,
   "id": "4eb78352",
   "metadata": {},
   "outputs": [
    {
     "name": "stdout",
     "output_type": "stream",
     "text": [
      "\n",
      "=== Distribution Summary (Free vs Premium) ===\n",
      "              metric                  cohort     mean  median    p75    p90  \\\n",
      "0  gamesession_count    Free (never premium)    8.174     4.0    9.0   19.0   \n",
      "1      clips_created    Free (never premium)  120.569    48.0  118.0  243.0   \n",
      "2   clips_downloaded    Free (never premium)    2.807     0.0    1.0    6.0   \n",
      "3       clips_shared    Free (never premium)    1.269     0.0    0.0    0.0   \n",
      "4  gamesession_count  Premium (ever premium)    8.515     4.0   10.0   22.0   \n",
      "5      clips_created  Premium (ever premium)  125.786    51.0  126.5  318.2   \n",
      "6   clips_downloaded  Premium (ever premium)    3.164     0.0    1.0    7.0   \n",
      "7       clips_shared  Premium (ever premium)    1.290     0.0    0.0    0.0   \n",
      "\n",
      "       p99  \n",
      "0    67.97  \n",
      "1  1190.40  \n",
      "2    45.97  \n",
      "3    18.94  \n",
      "4    59.42  \n",
      "5  1123.78  \n",
      "6    59.14  \n",
      "7    36.78  \n"
     ]
    }
   ],
   "source": [
    "# ----- Ringkasan Distribusi (mean/median/p75/p90/p99)-----\n",
    "def summarize_distribution(df, cohort_mask, cols, cohort_name):\n",
    "    subset = df[cohort_mask]\n",
    "    stats = {}\n",
    "    for c in cols:\n",
    "        s = subset[c].astype(float)\n",
    "        stats[c] = {\n",
    "            \"mean\": s.mean(),\n",
    "            \"median\": s.median(),\n",
    "            \"p75\": s.quantile(0.75),\n",
    "            \"p90\": s.quantile(0.90),\n",
    "            \"p99\": s.quantile(0.99),\n",
    "        }\n",
    "    out = pd.DataFrame(stats).T\n",
    "    out.insert(0, \"cohort\", cohort_name)\n",
    "    return out.reset_index().rename(columns={\"index\": \"metric\"})\n",
    "\n",
    "metrics = [\"gamesession_count\", \"clips_created\", \"clips_downloaded\", \"clips_shared\"]\n",
    "dist_free = summarize_distribution(lifetime, ~lifetime[\"ever_premium\"], metrics, \"Free (never premium)\")\n",
    "dist_prem = summarize_distribution(lifetime, lifetime[\"ever_premium\"], metrics, \"Premium (ever premium)\")\n",
    "dist_table = pd.concat([dist_free, dist_prem], ignore_index=True)\n",
    "print(\"\\n=== Distribution Summary (Free vs Premium) ===\")\n",
    "print(dist_table.round(3))"
   ]
  },
  {
   "cell_type": "code",
   "execution_count": null,
   "id": "605a7630",
   "metadata": {},
   "outputs": [],
   "source": [
    "# ----- Visual Boxplot (tanpa seaborn) -----\n",
    "def boxplot_metric(df, metric, cohort_col=\"ever_premium\", labels=(\"Free\", \"Premium\")):\n",
    "    data = [df.loc[~df[cohort_col], metric].astype(float).values,\n",
    "            df.loc[df[cohort_col],  metric].astype(float).values]\n",
    "    plt.figure(figsize=(6,4))\n",
    "    plt.boxplot(data, labels=labels, showfliers=False)\n",
    "    plt.title(f\"{metric} per User: Free vs Premium\")\n",
    "    plt.ylabel(metric)\n",
    "    plt.tight_layout()\n",
    "    plt.show()\n",
    "\n",
    "for m in metrics:\n",
    "    boxplot_metric(lifetime, m)"
   ]
  },
  {
   "cell_type": "code",
   "execution_count": 30,
   "id": "2ff63b49",
   "metadata": {},
   "outputs": [
    {
     "data": {
      "image/png": "[encoded data removed]",
      "text/plain": [
       "<Figure size 600x400 with 1 Axes>"
      ]
     },
     "metadata": {},
     "output_type": "display_data"
    },
    {
     "name": "stdout",
     "output_type": "stream",
     "text": [
      "\n",
      "=== Active Weeks (0-12) per User: Summary ===\n",
      "    cohort   mean  median  p75  p90\n",
      "0     Free  2.420     2.0  3.0  4.0\n",
      "1  Premium  2.508     2.0  3.0  5.0\n"
     ]
    },
    {
     "name": "stderr",
     "output_type": "stream",
     "text": [
      "C:\\Users\\musth\\AppData\\Local\\Temp\\ipykernel_15884\\1034106597.py:71: MatplotlibDeprecationWarning: The 'labels' parameter of boxplot() has been renamed 'tick_labels' since Matplotlib 3.9; support for the old name will be dropped in 3.11.\n",
      "  plt.boxplot([\n"
     ]
    },
    {
     "data": {
      "image/png": "[encoded data removed]",
      "text/plain": [
       "<Figure size 600x400 with 1 Axes>"
      ]
     },
     "metadata": {},
     "output_type": "display_data"
    }
   ],
   "source": [
    "# ----- Retensi 0-12 minggu sejak signup -----\n",
    "# Bangun tabel event (gamesession, clip_created, clip_downloaded, clip_shared)\n",
    "def build_events():\n",
    "    evs = []\n",
    "\n",
    "    if {\"user_id\",\"created_at\"}.issubset(gamesession_df.columns):\n",
    "        tmp = gamesession_df[[\"user_id\",\"created_at\"]].dropna().rename(columns={\"created_at\":\"event_time\"})\n",
    "        tmp[\"event\"] = \"gamesession\"\n",
    "        evs.append(tmp)\n",
    "\n",
    "    if {\"user_id\",\"created_at\"}.issubset(clips_df.columns):\n",
    "        tmp = clips_df[[\"user_id\",\"created_at\"]].dropna().rename(columns={\"created_at\":\"event_time\"})\n",
    "        tmp[\"event\"] = \"clip_created\"\n",
    "        evs.append(tmp)\n",
    "\n",
    "    if {\"user_id\",\"created_at\"}.issubset(downloaded_df.columns):\n",
    "        tmp = downloaded_df[[\"user_id\",\"created_at\"]].dropna().rename(columns={\"created_at\":\"event_time\"})\n",
    "        tmp[\"event\"] = \"clip_downloaded\"\n",
    "        evs.append(tmp)\n",
    "\n",
    "    # share: pakai scheduled_at jika ada, else created_at\n",
    "    if \"user_id\" in shared_df.columns:\n",
    "        t = shared_df.copy()\n",
    "        t[\"event_time\"] = t[\"scheduled_at\"].fillna(t[\"created_at\"])\n",
    "        tmp = t[[\"user_id\",\"event_time\"]].dropna()\n",
    "        tmp[\"event\"] = \"clip_shared\"\n",
    "        evs.append(tmp)\n",
    "\n",
    "    return pd.concat(evs, ignore_index=True)\n",
    "\n",
    "events = build_events()\n",
    "ev = events.merge(user_labels[[\"user_id\",\"signup_at\",\"ever_premium\"]], on=\"user_id\", how=\"left\")\n",
    "ev = ev.dropna(subset=[\"signup_at\"])\n",
    "ev[\"delta_days\"] = (ev[\"event_time\"] - ev[\"signup_at\"]).dt.days\n",
    "ev = ev[ev[\"delta_days\"] >= 0].copy()\n",
    "ev[\"week_idx\"] = (ev[\"delta_days\"] // 7).astype(int)\n",
    "ev = ev[ev[\"week_idx\"].between(0, 12)]\n",
    "\n",
    "# retention share per minggu\n",
    "active = ev.groupby([\"ever_premium\",\"user_id\",\"week_idx\"]).size().reset_index(name=\"cnt\")\n",
    "retention = active.groupby([\"ever_premium\",\"week_idx\"])[\"user_id\"].nunique().reset_index(name=\"active_users\")\n",
    "cohort_counts = user_labels.groupby(\"ever_premium\")[\"user_id\"].nunique().rename(\"cohort_size\").reset_index()\n",
    "retention = retention.merge(cohort_counts, on=\"ever_premium\", how=\"left\")\n",
    "retention[\"retention_rate\"] = retention[\"active_users\"] / retention[\"cohort_size\"]\n",
    "\n",
    "ret_pivot = retention.pivot(index=\"week_idx\", columns=\"ever_premium\", values=\"retention_rate\") \\\n",
    "                     .rename(columns={False:\"Free\", True:\"Premium\"}).fillna(0)\n",
    "\n",
    "# Plot retention curve\n",
    "plt.figure(figsize=(6,4))\n",
    "plt.plot(ret_pivot.index, ret_pivot[\"Free\"], marker=\"o\", label=\"Free\")\n",
    "plt.plot(ret_pivot.index, ret_pivot[\"Premium\"], marker=\"o\", label=\"Premium\")\n",
    "plt.title(\"Weekly Retention since Signup (Weeks 0-12)\")\n",
    "plt.xlabel(\"Week since signup\")\n",
    "plt.ylabel(\"Active users / Cohort size\")\n",
    "plt.xticks(range(0, 13))\n",
    "plt.legend()\n",
    "plt.tight_layout()\n",
    "plt.show()\n",
    "\n",
    "# Distribusi \"active weeks per user\"\n",
    "active_weeks_per_user = active.groupby([\"ever_premium\",\"user_id\"])[\"week_idx\"].nunique().reset_index(name=\"active_weeks_0_12\")\n",
    "aw_summary = active_weeks_per_user.groupby(\"ever_premium\")[\"active_weeks_0_12\"] \\\n",
    "    .agg(mean=\"mean\", median=\"median\", p75=lambda s: s.quantile(0.75), p90=lambda s: s.quantile(0.90)) \\\n",
    "    .reset_index().rename(columns={\"ever_premium\":\"cohort\"})\n",
    "aw_summary[\"cohort\"] = aw_summary[\"cohort\"].map({False:\"Free\", True:\"Premium\"})\n",
    "print(\"\\n=== Active Weeks (0-12) per User: Summary ===\")\n",
    "print(aw_summary.round(3))\n",
    "\n",
    "plt.figure(figsize=(6,4))\n",
    "plt.boxplot([\n",
    "    active_weeks_per_user.loc[active_weeks_per_user[\"ever_premium\"]==False, \"active_weeks_0_12\"].values,\n",
    "    active_weeks_per_user.loc[active_weeks_per_user[\"ever_premium\"]==True,  \"active_weeks_0_12\"].values\n",
    "], labels=[\"Free\",\"Premium\"], showfliers=False)\n",
    "plt.title(\"Active Weeks per User (Weeks 0-12)\")\n",
    "plt.ylabel(\"Active weeks\")\n",
    "plt.tight_layout()\n",
    "plt.show()"
   ]
  },
  {
   "cell_type": "code",
   "execution_count": 31,
   "id": "687e2aec",
   "metadata": {},
   "outputs": [
    {
     "name": "stdout",
     "output_type": "stream",
     "text": [
      "\n",
      "=== Spearman Correlation: 30-day Features vs Conversion ≤60d ===\n",
      "     feature  spearman_rho  p_value\n",
      "0     gs_30d        0.0205   0.1653\n",
      "1  clips_30d        0.0245   0.0979\n",
      "2     dl_30d       -0.0004   0.9760\n",
      "3     sh_30d       -0.0025   0.8665\n"
     ]
    }
   ],
   "source": [
    "# ----- Conversion Signals -----\n",
    "# Fitur aktivitas dalam 30 hari pertama sejak signup; label: konversi ≤60 hari\n",
    "def features_in_window(df, time_col, days, label, shared=False):\n",
    "    tmp = df.copy()\n",
    "    tmp[\"event_time\"] = tmp[\"scheduled_at\"].fillna(tmp[\"created_at\"]) if shared else tmp[time_col]\n",
    "    tmp = tmp[[\"user_id\",\"event_time\"]].dropna()\n",
    "    tmp = tmp.merge(user_join, on=\"user_id\", how=\"left\")\n",
    "    tmp = tmp.dropna(subset=[\"signup_at\",\"event_time\"])\n",
    "    within = tmp[(tmp[\"event_time\"] >= tmp[\"signup_at\"]) & (tmp[\"event_time\"] <= tmp[\"signup_at\"] + pd.Timedelta(days=days))]\n",
    "    return within.groupby(\"user_id\").size().rename(label)\n",
    "\n",
    "OBS_DAYS = 30\n",
    "f_gs = features_in_window(gamesession_df, \"created_at\", OBS_DAYS, \"gs_30d\")\n",
    "f_cl = features_in_window(clips_df,       \"created_at\", OBS_DAYS, \"clips_30d\")\n",
    "f_dl = features_in_window(downloaded_df,  \"created_at\", OBS_DAYS, \"dl_30d\")\n",
    "f_sh = features_in_window(shared_df,      \"created_at\", OBS_DAYS, \"sh_30d\", shared=True)\n",
    "\n",
    "feat = user_labels.set_index(\"user_id\")[[\"signup_at\",\"premium_start_at\",\"ever_premium\"]] \\\n",
    "                  .join([f_gs, f_cl, f_dl, f_sh], how=\"left\").fillna(0).reset_index()\n",
    "\n",
    "feat[\"premium_start_at\"] = pd.to_datetime(feat[\"premium_start_at\"], errors=\"coerce\")\n",
    "feat[\"converted_60d\"] = (~feat[\"premium_start_at\"].isna()) & \\\n",
    "                        ((feat[\"premium_start_at\"] - feat[\"signup_at\"]).dt.days <= 60)\n",
    "\n",
    "# Spearman correlation (aktivitas 30 hari pertama vs converted_60d)\n",
    "rows = []\n",
    "for col in [\"gs_30d\",\"clips_30d\",\"dl_30d\",\"sh_30d\"]:\n",
    "    rho, pval = spearmanr(feat[col], feat[\"converted_60d\"].astype(int))\n",
    "    rows.append({\"feature\": col, \"spearman_rho\": rho, \"p_value\": pval})\n",
    "corr_df = pd.DataFrame(rows)\n",
    "print(\"\\n=== Spearman Correlation: 30-day Features vs Conversion ≤60d ===\")\n",
    "print(corr_df.round(4))"
   ]
  },
  {
   "cell_type": "code",
   "execution_count": 32,
   "id": "c8657859",
   "metadata": {},
   "outputs": [
    {
     "name": "stdout",
     "output_type": "stream",
     "text": [
      "\n",
      "=== Premium vs Free: Percentile Comparison (Median & P90) ===\n",
      "              metric  free_median  prem_median  prem_vs_free_median_ratio  \\\n",
      "0  gamesession_count          4.0          4.0                      1.000   \n",
      "1      clips_created         48.0         51.0                      1.062   \n",
      "2   clips_downloaded          0.0          0.0                        NaN   \n",
      "3       clips_shared          0.0          0.0                        NaN   \n",
      "\n",
      "   free_p90  prem_p90  prem_vs_free_p90_ratio  \n",
      "0      19.0      22.0                   1.158  \n",
      "1     243.0     318.2                   1.309  \n",
      "2       6.0       7.0                   1.167  \n",
      "3       0.0       0.0                     NaN  \n"
     ]
    }
   ],
   "source": [
    "# ----- Perbandingan Percentile (Median, P90) -----\n",
    "def pctiles(df, mask, metric):\n",
    "    s = df.loc[mask, metric].astype(float)\n",
    "    return {\"median\": s.median(), \"p90\": s.quantile(0.9)}\n",
    "\n",
    "comp_rows = []\n",
    "for m in metrics:\n",
    "    free = pctiles(lifetime, ~lifetime[\"ever_premium\"], m)\n",
    "    prem = pctiles(lifetime,  lifetime[\"ever_premium\"], m)\n",
    "    comp_rows.append({\n",
    "        \"metric\": m,\n",
    "        \"free_median\": round(free[\"median\"],3),\n",
    "        \"prem_median\": round(prem[\"median\"],3),\n",
    "        \"prem_vs_free_median_ratio\": round((prem[\"median\"]/free[\"median\"]) if free[\"median\"]>0 else np.nan,3),\n",
    "        \"free_p90\": round(free[\"p90\"],3),\n",
    "        \"prem_p90\": round(prem[\"p90\"],3),\n",
    "        \"prem_vs_free_p90_ratio\": round((prem[\"p90\"]/free[\"p90\"]) if free[\"p90\"]>0 else np.nan,3),\n",
    "    })\n",
    "pct_comp = pd.DataFrame(comp_rows)\n",
    "print(\"\\n=== Premium vs Free: Percentile Comparison (Median & P90) ===\")\n",
    "print(pct_comp)"
   ]
  },
  {
   "cell_type": "code",
   "execution_count": null,
   "id": "ab072542",
   "metadata": {},
   "outputs": [],
   "source": []
  }
 ],
 "metadata": {
  "kernelspec": {
   "display_name": "Python 3",
   "language": "python",
   "name": "python3"
  },
  "language_info": {
   "codemirror_mode": {
    "name": "ipython",
    "version": 3
   },
   "file_extension": ".py",
   "mimetype": "text/x-python",
   "name": "python",
   "nbconvert_exporter": "python",
   "pygments_lexer": "ipython3",
   "version": "3.13.3"
  }
 },
 "nbformat": 4,
 "nbformat_minor": 5
}
